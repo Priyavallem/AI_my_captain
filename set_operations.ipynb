{
  "nbformat": 4,
  "nbformat_minor": 0,
  "metadata": {
    "colab": {
      "provenance": [],
      "authorship_tag": "ABX9TyPX0J15bKg/+OjOIFUTR51D",
      "include_colab_link": true
    },
    "kernelspec": {
      "name": "python3",
      "display_name": "Python 3"
    },
    "language_info": {
      "name": "python"
    }
  },
  "cells": [
    {
      "cell_type": "markdown",
      "metadata": {
        "id": "view-in-github",
        "colab_type": "text"
      },
      "source": [
        "<a href=\"https://colab.research.google.com/github/Priyavallem/AI_my_captain/blob/main/set_operations.ipynb\" target=\"_parent\"><img src=\"https://colab.research.google.com/assets/colab-badge.svg\" alt=\"Open In Colab\"/></a>"
      ]
    },
    {
      "cell_type": "code",
      "execution_count": 2,
      "metadata": {
        "colab": {
          "base_uri": "https://localhost:8080/"
        },
        "id": "Bs_T_aL5r1ks",
        "outputId": "064fc8ba-7d39-4f14-9f01-ebf3afa693be"
      },
      "outputs": [
        {
          "output_type": "stream",
          "name": "stdout",
          "text": [
            "Union : {0, 1, 2, 3, 4, 5, 6, 8}\n",
            "Intersection : {2, 4}\n",
            "Difference : {0, 8, 6}\n",
            "Symmetric difference : {0, 1, 3, 5, 6, 8}\n"
          ]
        }
      ],
      "source": [
        "# Program to perform different set operations\n",
        "E= {0, 2, 4, 6, 8};\n",
        "N = {1, 2, 3, 4, 5};\n",
        "print(\"Union :\", E | N)\n",
        "print(\"Intersection :\", E & N)\n",
        "print(\"Difference :\", E - N)\n",
        "print(\"Symmetric difference :\", E ^ N)"
      ]
    }
  ]
}