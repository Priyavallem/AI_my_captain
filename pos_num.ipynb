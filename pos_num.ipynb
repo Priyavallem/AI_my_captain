{
  "nbformat": 4,
  "nbformat_minor": 0,
  "metadata": {
    "colab": {
      "provenance": [],
      "authorship_tag": "ABX9TyMR4V2yST5VCQpUflDKXYv8",
      "include_colab_link": true
    },
    "kernelspec": {
      "name": "python3",
      "display_name": "Python 3"
    },
    "language_info": {
      "name": "python"
    }
  },
  "cells": [
    {
      "cell_type": "markdown",
      "metadata": {
        "id": "view-in-github",
        "colab_type": "text"
      },
      "source": [
        "<a href=\"https://colab.research.google.com/github/Priyavallem/AI_my_captain/blob/main/pos_num.ipynb\" target=\"_parent\"><img src=\"https://colab.research.google.com/assets/colab-badge.svg\" alt=\"Open In Colab\"/></a>"
      ]
    },
    {
      "cell_type": "code",
      "execution_count": null,
      "metadata": {
        "id": "PNNCdqUKqbHY"
      },
      "outputs": [],
      "source": [
        "#python program to print positive numbers in a given range\n",
        "lst=[]\n",
        "n=int(input(\"enter the size of the list\"))\n",
        "for i in range(0,n):\n",
        "    e=int(input(\"enter the element of the list\"))\n",
        "    lst.append(e)\n",
        "pos = [num for num in lst if num>=0]\n",
        "print(pos)"
      ]
    }
  ]
}